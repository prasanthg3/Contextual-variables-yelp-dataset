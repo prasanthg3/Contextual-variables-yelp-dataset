{
 "cells": [
  {
   "cell_type": "code",
   "execution_count": null,
   "metadata": {},
   "outputs": [],
   "source": [
    "import re\n",
    "import pandas as pd"
   ]
  },
  {
   "cell_type": "code",
   "execution_count": null,
   "metadata": {},
   "outputs": [],
   "source": []
  },
  {
   "cell_type": "code",
   "execution_count": null,
   "metadata": {},
   "outputs": [],
   "source": [
    "context_variables = {\n",
    "    'partner':[\"wife\",\"husband\",\"girlfriend\",\"boyfriend\",\"spouse\",\"honeymoon\",\"husband\",\"fiance\"],\n",
    "    'lunch':[\"lunch\",\"noon\"],\n",
    "    'birthday':[\"birthday\",\"bday\",\"b'day\"],\n",
    "    'solo':[\"solo\",\"alone\"],\n",
    "    'family':[\"father\",\"mother\",\"parents\",\"son\",\"daughter\",\"child\",\"children\",\"offspring\",\"brother\",\"sister\",\"sibling\",\"twin\",\"mom\",\"dad\",\"uncle\",\"aunt\",\"nephew\",\"niece\",\"cousin\",\"family\",\"relative\"],\n",
    "    \"colleague\":[\"colleague\",\"boss\",\"business\",\"worker\",\"conference\"],\n",
    "    \"anniversary\":[\"anniversary\"],\n",
    "    \"promotion\":[\"promotion\",\"coupon\",\"discount\",\"offer\"],\n",
    "    \"holiday\":[\"holiday\",\"vacation\",\"trip\",\"newyear\",\"christmas\",\"xmas\",\"x'mas\",\"thanksgiving\"],\n",
    "    \"breakfast\":[\"breakfast\",\"morning\"],\n",
    "    \"dinner\":[\"dinner\",\"night\"],\n",
    "    \"brunch\":[\"brunch\"],\n",
    "    \"snacks\":[\"snack\",\"tea\", \"coffee\"],\n",
    "    \"drinks\":[\"drink\",\"bar\"]\n",
    "}\n"
   ]
  },
  {
   "cell_type": "code",
   "execution_count": null,
   "metadata": {},
   "outputs": [],
   "source": [
    "import json\n",
    "with open('yelp_academic_dataset_review.json',encoding=\"utf8\") as f:\n",
    "    data = [json.loads(line) for line in f]\n"
   ]
  },
  {
   "cell_type": "code",
   "execution_count": null,
   "metadata": {},
   "outputs": [],
   "source": [
    "data_subset=data[:10000]\n",
    "len(data_subset)\n",
    "#col_names[0]"
   ]
  },
  {
   "cell_type": "code",
   "execution_count": null,
   "metadata": {},
   "outputs": [],
   "source": [
    "context_data_list = list()\n",
    "for review in data_subset:\n",
    "    rev_dict = {'review_id':review['review_id'],\n",
    "                'business_id':review['business_id'],\n",
    "                'stars':review['stars']}\n",
    "    for var in context_variables:\n",
    "        isPresent = 0\n",
    "        for value in context_variables[var]:\n",
    "            if re.search('(?<!\\w){}(?!\\w)'.format(value),review['text']):\n",
    "                isPresent = 1\n",
    "            rev_dict[var]=isPresent\n",
    "    context_data_list.append(rev_dict.copy())"
   ]
  },
  {
   "cell_type": "code",
   "execution_count": null,
   "metadata": {},
   "outputs": [],
   "source": [
    "context_data_df = pd.DataFrame(context_data_list)\n",
    "context_data_df.shape"
   ]
  },
  {
   "cell_type": "code",
   "execution_count": null,
   "metadata": {},
   "outputs": [],
   "source": [
    "context_data_df.describe()"
   ]
  },
  {
   "cell_type": "code",
   "execution_count": null,
   "metadata": {},
   "outputs": [],
   "source": [
    "context_data_df.head()"
   ]
  },
  {
   "cell_type": "code",
   "execution_count": null,
   "metadata": {},
   "outputs": [],
   "source": [
    "from sklearn.ensemble import RandomForestRegressor\n",
    "from sklearn.model_selection import train_test_split\n",
    "X_train,X_test=train_test_split(context_data_df,test_size=0.2)"
   ]
  },
  {
   "cell_type": "code",
   "execution_count": null,
   "metadata": {},
   "outputs": [],
   "source": [
    "for n in list(X_train.index):\n",
    "    X_train.loc[n,'Avg']=X_train[X_train['business_id'] == X_train.loc[n,'business_id']]['stars'].mean(axis=0)\n",
    "for n in list(X_test.index):\n",
    "    X_test.loc[n,'Avg']=X_test[X_test['business_id'] == X_test.loc[n,'business_id']]['stars'].mean(axis=0)"
   ]
  },
  {
   "cell_type": "code",
   "execution_count": null,
   "metadata": {},
   "outputs": [],
   "source": [
    "X_train=X_train.drop(['business_id', 'review_id'], axis=1)\n",
    "X_test=X_test.drop(['business_id', 'review_id'], axis=1)"
   ]
  },
  {
   "cell_type": "code",
   "execution_count": null,
   "metadata": {},
   "outputs": [],
   "source": [
    "y_train=X_train.pop('Avg')\n",
    "y_test=X_test.pop('Avg')"
   ]
  },
  {
   "cell_type": "code",
   "execution_count": null,
   "metadata": {},
   "outputs": [],
   "source": [
    "regr = RandomForestRegressor(max_depth=16, random_state=32,n_estimators=1000)\n",
    "regr.fit(X_train, y_train)"
   ]
  },
  {
   "cell_type": "code",
   "execution_count": null,
   "metadata": {},
   "outputs": [],
   "source": [
    "from sklearn.metrics import mean_squared_error\n",
    "from math import sqrt\n",
    "results = regr.predict(X_test)\n",
    "rmse=sqrt(mean_squared_error(y_test, results))\n",
    "print(rmse)\n",
    "print(regr.feature_importances_)\n",
    "print(regr.score(X,y))"
   ]
  },
  {
   "cell_type": "code",
   "execution_count": null,
   "metadata": {},
   "outputs": [],
   "source": [
    "X1=my_df[['Rating']]\n",
    "y1=my_df['Avg']"
   ]
  },
  {
   "cell_type": "code",
   "execution_count": null,
   "metadata": {},
   "outputs": [],
   "source": [
    "X1_train,X1_test,y1_train,y1_test=train_test_split(X1,y1,test_size=0.2)"
   ]
  },
  {
   "cell_type": "code",
   "execution_count": null,
   "metadata": {},
   "outputs": [],
   "source": [
    "regr1 = RandomForestRegressor(max_depth=16, random_state=32,n_estimators=1000)\n",
    "regr1.fit(X1_train, y1_train)"
   ]
  },
  {
   "cell_type": "code",
   "execution_count": null,
   "metadata": {},
   "outputs": [],
   "source": [
    "results1 = regr1.predict(X1_test)\n",
    "rmse1=sqrt(mean_squared_error(y1_test, results1))\n",
    "print(rmse1)\n",
    "#print(regr1.feature_importances_)\n",
    "print(regr1.score(X1,y1))"
   ]
  },
  {
   "cell_type": "code",
   "execution_count": null,
   "metadata": {},
   "outputs": [],
   "source": [
    "drmse=rmse1-rmse\n",
    "print(drmse)"
   ]
  }
 ],
 "metadata": {
  "kernelspec": {
   "display_name": "Python 3",
   "language": "python",
   "name": "python3"
  },
  "language_info": {
   "codemirror_mode": {
    "name": "ipython",
    "version": 3
   },
   "file_extension": ".py",
   "mimetype": "text/x-python",
   "name": "python",
   "nbconvert_exporter": "python",
   "pygments_lexer": "ipython3",
   "version": "3.7.0"
  }
 },
 "nbformat": 4,
 "nbformat_minor": 2
}
